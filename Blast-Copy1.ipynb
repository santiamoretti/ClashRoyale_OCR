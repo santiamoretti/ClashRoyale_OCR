{
 "cells": [
  {
   "cell_type": "code",
   "execution_count": 1,
   "id": "e52cb074",
   "metadata": {},
   "outputs": [],
   "source": [
    "import cv2\n",
    "import pytesseract\n",
    "import time\n",
    "from flask import Flask, request, jsonify\n",
    "import os\n",
    "import PIL as plt\n",
    "import matplotlib.pyplot as plt\n",
    "from werkzeug.utils import secure_filename\n",
    "import numpy as np"
   ]
  },
  {
   "cell_type": "code",
   "execution_count": 6,
   "id": "3d70e872",
   "metadata": {},
   "outputs": [
    {
     "name": "stdout",
     "output_type": "stream",
     "text": [
      " * Serving Flask app '__main__'\n",
      " * Debug mode: on\n"
     ]
    },
    {
     "name": "stderr",
     "output_type": "stream",
     "text": [
      "WARNING: This is a development server. Do not use it in a production deployment. Use a production WSGI server instead.\n",
      " * Running on all addresses (0.0.0.0)\n",
      " * Running on http://127.0.0.1:3000\n",
      " * Running on http://192.168.1.6:3000\n",
      "Press CTRL+C to quit\n",
      "192.168.1.6 - - [09/Feb/2024 08:47:11] \"POST /upload HTTP/1.1\" 200 -\n"
     ]
    }
   ],
   "source": [
    "pytesseract.pytesseract.tesseract_cmd ='/usr/local/bin/tesseract'\n",
    "\n",
    "app = Flask(__name__)\n",
    "\n",
    "\n",
    "@app.route('/upload', methods=['POST'])\n",
    "def upload_file():\n",
    "    if 'file' not in request.files:\n",
    "        return jsonify({'error': 'No file part'}), 400\n",
    "    file = request.files['file']\n",
    "    if file.filename == '':\n",
    "        return jsonify({'error': 'No selected file'}), 400\n",
    "    if file:\n",
    "        filename = secure_filename(file.filename)\n",
    "        file.save(filename)  # Save the file directly using the sanitized filename\n",
    "        \n",
    "        image = cv2.imread(filename)\n",
    "\n",
    "        # Now convert the image to the HSV color space\n",
    "        hsv_image = cv2.cvtColor(image, cv2.COLOR_BGR2HSV)\n",
    "\n",
    "        lower_red = np.array([0, 120, 70])\n",
    "        upper_red = np.array([10, 255, 255])\n",
    "        lower_red2 = np.array([170, 120, 70])\n",
    "        upper_red2 = np.array([180, 255, 255])\n",
    "        lower_blue = np.array([100, 150, 0])\n",
    "        upper_blue = np.array([140, 255, 255])\n",
    "        lower_white = np.array([0, 0, 200])\n",
    "        upper_white = np.array([180, 55, 255])\n",
    "\n",
    "\n",
    "\n",
    "        mask_red1 = cv2.inRange(hsv_image, lower_red, upper_red)\n",
    "        mask_red2 = cv2.inRange(hsv_image, lower_red2, upper_red2)\n",
    "        mask_red = cv2.bitwise_or(mask_red1, mask_red2)\n",
    "        mask_blue = cv2.inRange(hsv_image, lower_blue, upper_blue)\n",
    "        mask_white = cv2.inRange(hsv_image, lower_white, upper_white)\n",
    "\n",
    "\n",
    "        def white_content_inside(contour, mask_white ):\n",
    "            x, y, w, h = cv2.boundingRect(contour)\n",
    "\n",
    "            submask = mask_white[y:y+h, x:x+w]\n",
    "\n",
    "            return np.count_nonzero(submask)\n",
    "        \n",
    "        def create_json_response(extracted_text, color_name):\n",
    "            # Construct and return a dictionary for the item\n",
    "            return {\n",
    "                \"nombre\": extracted_text,\n",
    "                \"color\": color_name\n",
    "            }\n",
    "        \n",
    "        \n",
    "\n",
    "\n",
    "\n",
    "\n",
    "        contours_red, _ = cv2.findContours(mask_red, cv2.RETR_EXTERNAL, cv2.CHAIN_APPROX_SIMPLE)\n",
    "        contours_blue, _ = cv2.findContours(mask_blue, cv2.RETR_EXTERNAL, cv2.CHAIN_APPROX_SIMPLE)\n",
    "\n",
    "\n",
    "\n",
    "        most_white_red_contour = max(contours_red, key=lambda c: white_content_inside(c, mask_white), default=None)\n",
    "        most_white_blue_contour = max(contours_blue, key=lambda c: white_content_inside(c, mask_white), default=None)\n",
    "\n",
    "\n",
    "\n",
    "        # Function to apply preprocessing and show results\n",
    "        def preprocess_and_show(img, method_name, color_name):\n",
    "            # Convert to grayscale\n",
    "            gray = cv2.cvtColor(img, cv2.COLOR_BGR2GRAY) if method_name != 'Grayscale' else img\n",
    "\n",
    "            # Apply preprocessing based on the method\n",
    "            if method_name == 'Otsu Thresholding':\n",
    "                _, processed_img = cv2.threshold(gray, 0, 255, cv2.THRESH_BINARY + cv2.THRESH_OTSU)\n",
    "            elif method_name == 'Adaptive Thresholding':\n",
    "                processed_img = cv2.adaptiveThreshold(gray, 255, cv2.ADAPTIVE_THRESH_GAUSSIAN_C, cv2.THRESH_BINARY, 11, 2)\n",
    "            elif method_name == 'Morphological Operations':\n",
    "                kernel = np.ones((1, 1), np.uint8)\n",
    "                processed_img = cv2.morphologyEx(gray, cv2.MORPH_OPEN, kernel)\n",
    "                processed_img = cv2.morphologyEx(processed_img, cv2.MORPH_CLOSE, kernel)\n",
    "            elif method_name == 'Sharpening Filter':\n",
    "                kernel = np.array([[-1, -1, -1], [-1, 9, -1], [-1, -1, -1]])\n",
    "                processed_img = cv2.filter2D(gray, -1, kernel)\n",
    "            else:\n",
    "                processed_img = gray\n",
    "\n",
    "            # OCR with Tesseract\n",
    "            extracted_text = pytesseract.image_to_string(processed_img)\n",
    "\n",
    "\n",
    "\n",
    "            return create_json_response(extracted_text, color_name)\n",
    "\n",
    "\n",
    "        ocr_results = []\n",
    "        for contour, color_name in [(most_white_red_contour, \"Rojo\"), (most_white_blue_contour, \"Azul\")]:\n",
    "            if contour is not None:\n",
    "                x, y, w, h = cv2.boundingRect(contour)\n",
    "                color_section = image[y:y+h, x:x+w]\n",
    "\n",
    "                methods = ['Grayscale', 'Otsu Thresholding', 'Adaptive Thresholding', 'Morphological Operations', 'Sharpening Filter']\n",
    "                for method in methods:\n",
    "                    ocr_results.append(preprocess_and_show(color_section, method, color_name))\n",
    "\n",
    "        \n",
    "\n",
    "        \n",
    "        os.remove(filename)\n",
    "\n",
    "        return jsonify(ocr_results)\n",
    "    \n",
    "    \n",
    "if __name__ == '__main__':\n",
    "    app.run(debug=True, host='0.0.0.0', port=3000, use_reloader=False)\n",
    "\n",
    "\n",
    "\n"
   ]
  },
  {
   "cell_type": "code",
   "execution_count": 2,
   "id": "73a79bfc",
   "metadata": {},
   "outputs": [
    {
     "name": "stdout",
     "output_type": "stream",
     "text": [
      "Gana Azul\n"
     ]
    },
    {
     "data": {
      "image/png": "[encoded data removed]",
      "text/plain": [
       "<Figure size 432x288 with 1 Axes>"
      ]
     },
     "metadata": {
      "needs_background": "light"
     },
     "output_type": "display_data"
    }
   ],
   "source": [
    "image_path = '/Users/santiamoretti/Downloads/ClashRoyale.jpg' \n",
    "image = cv2.imread(image_path)\n",
    "\n",
    "\n",
    "if image is None:\n",
    "    print(\"Error\")\n",
    "    exit()\n",
    "\n",
    "\n",
    "hsv_image = cv2.cvtColor(image, cv2.COLOR_BGR2HSV)\n",
    "\n",
    "\n",
    "lower_color = np.array([20, 100, 100])  \n",
    "upper_color = np.array([30, 255, 255])\n",
    "\n",
    "\n",
    "mask = cv2.inRange(hsv_image, lower_color, upper_color)\n",
    "\n",
    "\n",
    "height = mask.shape[0]\n",
    "upper_half_mask = mask[:height//2, :]\n",
    "lower_half_mask = mask[height//2:, :]\n",
    "\n",
    "\n",
    "upper_half_count = np.count_nonzero(upper_half_mask)\n",
    "lower_half_count = np.count_nonzero(lower_half_mask)\n",
    "\n",
    "\n",
    "\n",
    "if upper_half_count > lower_half_count:\n",
    "    print(\"Gana rojo\")\n",
    "elif lower_half_count > upper_half_count:\n",
    "    print(\"Gana Azul\")\n",
    "else:\n",
    "    print(\"las dos partes tienen la misma cantidad\")\n",
    "\n",
    "\n",
    "plt.imshow(mask, cmap='gray')\n",
    "plt.title(\"Macara\")\n",
    "plt.axis('off')\n",
    "plt.show()"
   ]
  },
  {
   "cell_type": "code",
   "execution_count": 14,
   "id": "f7e27d31",
   "metadata": {},
   "outputs": [
    {
     "name": "stdout",
     "output_type": "stream",
     "text": [
      "100\n"
     ]
    }
   ],
   "source": [
    "from fuzzywuzzy import fuzz\n",
    "\n",
    "\n",
    "tesseract_output = \"Vous :\\n\\n\\\"}pas de clan le\\nR\\u00e9compense\\n\\na\\n\\nam\\n\\n1 \\u201c\\nCoffre en bois Os\\n\"\n",
    "\n",
    "\n",
    "database_value = \"Vous\"\n",
    "\n",
    "\n",
    "match_percentage = fuzz.partial_ratio(tesseract_output, database_value)\n",
    "\n",
    "print(match_percentage)  \n"
   ]
  },
  {
   "cell_type": "code",
   "execution_count": null,
   "id": "49a323f3",
   "metadata": {},
   "outputs": [],
   "source": [
    "!pip install fuzzywuzzy"
   ]
  },
  {
   "cell_type": "code",
   "execution_count": null,
   "id": "29610b9a",
   "metadata": {},
   "outputs": [],
   "source": []
  }
 ],
 "metadata": {
  "kernelspec": {
   "display_name": "Python 3 (ipykernel)",
   "language": "python",
   "name": "python3"
  },
  "language_info": {
   "codemirror_mode": {
    "name": "ipython",
    "version": 3
   },
   "file_extension": ".py",
   "mimetype": "text/x-python",
   "name": "python",
   "nbconvert_exporter": "python",
   "pygments_lexer": "ipython3",
   "version": "3.9.7"
  }
 },
 "nbformat": 4,
 "nbformat_minor": 5
}
